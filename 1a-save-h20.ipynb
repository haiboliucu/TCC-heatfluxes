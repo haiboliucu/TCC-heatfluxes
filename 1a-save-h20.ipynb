{
 "cells": [
  {
   "cell_type": "code",
   "execution_count": 3,
   "metadata": {
    "collapsed": true
   },
   "outputs": [],
   "source": [
    "import numpy as np\n",
    "import matplotlib.pyplot as plt\n",
    "import xarray as xr"
   ]
  },
  {
   "cell_type": "code",
   "execution_count": 4,
   "metadata": {},
   "outputs": [],
   "source": [
    "# First make h20clim\n",
    "choose_lon   = 'X/120/280/RANGE'\n",
    "choose_lat   = 'Y/-50/50/RANGE'\n",
    "uri_h20 = 'http://kage.ldeo.columbia.edu:81/SOURCES/.LDEO/.ClimateGroup/.PROJECTS/'\\\n",
    "           +'.TCC/.INC_ERA/.clim.nc/.h20'\\\n",
    "           +'/'+choose_lat+'/'+choose_lon+'/dods'\n",
    "ds  = xr.open_dataset(uri_h20)\n",
    "mask = ds.h20*0\n",
    "ds['mask']=mask\n",
    "ds.to_netcdf('data/h20clim.nc')"
   ]
  },
  {
   "cell_type": "code",
   "execution_count": 3,
   "metadata": {
    "collapsed": true
   },
   "outputs": [],
   "source": [
    "uri_h20 = 'http://kage.ldeo.columbia.edu:81/SOURCES/.LDEO/.ClimateGroup/.PROJECTS/'\\\n",
    "           +'.TCC/.INC_ERA/.trend.nc/.h20'\\\n",
    "           +'/'+choose_lat+'/'+choose_lon+'/dods'\n",
    "ds  = xr.open_dataset(uri_h20)\n",
    "ds.to_netcdf('data/h20trend.nc')"
   ]
  },
  {
   "cell_type": "code",
   "execution_count": 4,
   "metadata": {
    "collapsed": true
   },
   "outputs": [],
   "source": [
    "stype = 'clim'\n",
    "uri_h20 = 'http://kage.ldeo.columbia.edu:81/SOURCES/.LDEO/.ClimateGroup/.PROJECTS/'\\\n",
    "           +'.TCC/.ORAs4/.h20-'+stype+'.nc/.h20'\\\n",
    "           +'/'+choose_lat+'/'+choose_lon+'/dods'\n",
    "ds1  = xr.open_dataset(uri_h20)\n",
    "ds1.to_netcdf('data/h20clim-ORA.nc')"
   ]
  },
  {
   "cell_type": "code",
   "execution_count": 5,
   "metadata": {
    "collapsed": true
   },
   "outputs": [],
   "source": [
    "stype = 'trend'\n",
    "uri_h20 = 'http://kage.ldeo.columbia.edu:81/SOURCES/.LDEO/.ClimateGroup/.PROJECTS/'\\\n",
    "           +'.TCC/.ORAs4/.h20-'+stype+'.nc/.h20'\\\n",
    "           +'/'+choose_lat+'/'+choose_lon+'/dods'\n",
    "ds1  = xr.open_dataset(uri_h20)\n",
    "ds1.to_netcdf('data/h20trend-ORA.nc')"
   ]
  }
 ],
 "metadata": {
  "kernelspec": {
   "display_name": "Python 3",
   "language": "python",
   "name": "python3"
  },
  "language_info": {
   "codemirror_mode": {
    "name": "ipython",
    "version": 3
   },
   "file_extension": ".py",
   "mimetype": "text/x-python",
   "name": "python",
   "nbconvert_exporter": "python",
   "pygments_lexer": "ipython3",
   "version": "3.6.2"
  }
 },
 "nbformat": 4,
 "nbformat_minor": 1
}
