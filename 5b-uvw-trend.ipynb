{
 "cells": [
  {
   "cell_type": "code",
   "execution_count": 1,
   "metadata": {
    "collapsed": true
   },
   "outputs": [],
   "source": [
    "import numpy as np\n",
    "import netCDF4\n",
    "from matplotlib import pyplot as plt\n",
    "%matplotlib inline \n",
    "import xarray as xr"
   ]
  },
  {
   "cell_type": "code",
   "execution_count": 2,
   "metadata": {
    "collapsed": true
   },
   "outputs": [],
   "source": [
    "H = 50\n",
    "rdays = 2\n",
    "rs = 1/(rdays*24*3600)\n",
    "beta = 2.0*2.0*np.pi/(24*3600)\n",
    "rho = 1030\n",
    "Rearth = 6.371e6\n",
    "MperD = Rearth * np.pi / 180"
   ]
  },
  {
   "cell_type": "code",
   "execution_count": 3,
   "metadata": {
    "collapsed": true
   },
   "outputs": [],
   "source": [
    "url = 'http://kage.ldeo.columbia.edu:81/SOURCES/.LDEO/.ClimateGroup/\\\n",
    ".PROJECTS/.TCC/.INC_ERA/trend.nc/dods'"
   ]
  },
  {
   "cell_type": "code",
   "execution_count": 4,
   "metadata": {},
   "outputs": [],
   "source": [
    "ds = xr.open_dataset(url)"
   ]
  },
  {
   "cell_type": "code",
   "execution_count": 5,
   "metadata": {
    "collapsed": true
   },
   "outputs": [],
   "source": [
    "#Subset the domain\n",
    "dss = ds.sel(X=slice(119,281),Y=slice(-20,20))\n",
    "#calculate coriolis \n",
    "fcor =  beta * np.sin(np.pi * dss.Y / 180)"
   ]
  },
  {
   "cell_type": "code",
   "execution_count": 6,
   "metadata": {
    "collapsed": true
   },
   "outputs": [],
   "source": [
    "det = (fcor*fcor + rs*rs)*rho*H\n",
    "\n",
    "us = (rs*dss.taux + fcor*dss.tauy)/det\n",
    "vs = (rs*dss.tauy - fcor*dss.taux)/det"
   ]
  },
  {
   "cell_type": "code",
   "execution_count": 7,
   "metadata": {
    "collapsed": true
   },
   "outputs": [],
   "source": [
    "dx = MperD\n",
    "dy = MperD/2\n",
    "\n",
    "[su,tu] = np.gradient(us)\n",
    "dudx = tu/dx\n",
    "[sv,tv] = np.gradient(vs)\n",
    "dvdy = sv/dy\n",
    "ws = H * (dudx + dvdy)"
   ]
  },
  {
   "cell_type": "code",
   "execution_count": 8,
   "metadata": {
    "collapsed": true,
    "scrolled": true
   },
   "outputs": [],
   "source": [
    "# Define the new Dataset\n",
    "dsu = xr.Dataset({'X': ('X', dss.X), 'Y': ('Y', dss.Y), \\\n",
    "'taux': (['Y','X'], dss.taux),'tauy': (['Y','X'], dss.tauy), \\\n",
    "'us': (['Y','X'], us),'vs': (['Y','X'], vs), 'ws': (['Y','X'], ws)})\n",
    "dsu.X.attrs = ds.X.attrs; dsu.Y.attrs = ds.Y.attrs\n",
    "dsu.us.attrs = [('units','m/s')]\n",
    "dsu.vs.attrs = [('units','m/s')]\n",
    "dsu.ws.attrs = [('units','m/s')]\n",
    "dsu.taux.attrs = [('units','Nm2')]\n",
    "dsu.tauy.attrs = [('units','Nm2')]\n",
    "dsu.to_netcdf('data/uvws-trend.nc')"
   ]
  },
  {
   "cell_type": "code",
   "execution_count": 9,
   "metadata": {},
   "outputs": [
    {
     "data": {
      "text/plain": [
       "[<matplotlib.lines.Line2D at 0x7fbc8d5622b0>]"
      ]
     },
     "execution_count": 9,
     "metadata": {},
     "output_type": "execute_result"
    },
    {
     "data": {
      "image/png": "[encoded data removed]",
      "text/plain": [
       "<matplotlib.figure.Figure at 0x7fbc908daf60>"
      ]
     },
     "metadata": {},
     "output_type": "display_data"
    }
   ],
   "source": [
    "dsu.ws.sel(X=180, method='nearest').plot()"
   ]
  },
  {
   "cell_type": "code",
   "execution_count": null,
   "metadata": {
    "collapsed": true
   },
   "outputs": [],
   "source": []
  }
 ],
 "metadata": {
  "kernelspec": {
   "display_name": "Python 3",
   "language": "python",
   "name": "python3"
  },
  "language_info": {
   "codemirror_mode": {
    "name": "ipython",
    "version": 3
   },
   "file_extension": ".py",
   "mimetype": "text/x-python",
   "name": "python",
   "nbconvert_exporter": "python",
   "pygments_lexer": "ipython3",
   "version": "3.6.2"
  }
 },
 "nbformat": 4,
 "nbformat_minor": 1
}
